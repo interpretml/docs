{
 "cells": [
  {
   "cell_type": "markdown",
   "id": "api785f6",
   "metadata": {},
   "source": [
    "# set_show_addr\n",
    "\n",
    "```{eval-rst}\n",
    ".. autofunction:: interpret.set_show_addr\n",
    "```"
   ]
  }
 ],
 "metadata": {
  "language_info": {
   "name": "python"
  }
 },
 "nbformat": 4,
 "nbformat_minor": 5
}
