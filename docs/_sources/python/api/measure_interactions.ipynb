{
 "cells": [
  {
   "cell_type": "markdown",
   "id": "api785f6",
   "metadata": {},
   "source": [
    "# measure_interactions\n",
    "\n",
    "```{eval-rst}\n",
    ".. autofunction:: interpret.utils.measure_interactions\n",
    "```"
   ]
  }
 ],
 "metadata": {
  "language_info": {
   "name": "python"
  }
 },
 "nbformat": 4,
 "nbformat_minor": 5
}
