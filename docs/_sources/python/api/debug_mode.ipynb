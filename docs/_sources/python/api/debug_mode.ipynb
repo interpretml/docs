{
 "cells": [
  {
   "cell_type": "markdown",
   "id": "api785f6",
   "metadata": {},
   "source": [
    "# debug_mode\n",
    "\n",
    "```{eval-rst}\n",
    ".. autofunction:: interpret.develop.debug_mode\n",
    "```"
   ]
  }
 ],
 "metadata": {
  "language_info": {
   "name": "python"
  }
 },
 "nbformat": 4,
 "nbformat_minor": 5
}
