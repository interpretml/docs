{
 "cells": [
  {
   "cell_type": "markdown",
   "id": "api785f6",
   "metadata": {},
   "source": [
    "# ExplainableBoostingClassifier\n",
    "\n",
    "Link to Algorithm description: [EBM](../../ebm.ipynb)\n",
    "\n",
    "```{eval-rst}\n",
    ".. autoclass:: interpret.glassbox.ExplainableBoostingClassifier\n",
    "   :members:\n",
    "   :inherited-members:\n",
    "   :exclude-members: explainer_type, get_params, set_params, get_metadata_routing, set_decision_function_request, set_fit_request, set_predict_proba_request, set_predict_request, set_score_request\n",
    "```"
   ]
  }
 ],
 "metadata": {
  "language_info": {
   "name": "python"
  }
 },
 "nbformat": 4,
 "nbformat_minor": 5
}
