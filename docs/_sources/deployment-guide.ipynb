{
 "cells": [
  {
   "cell_type": "markdown",
   "id": "actual-inclusion",
   "metadata": {},
   "source": [
    "# Deployments\n",
    "\n",
    "When deploying to production, it is usually desirable to include as few dependencies as possible. For this scenario we offer the `interpret-core` package, which includes only the dependencies required for EBM fitting, predicting, editing, serialization, and generating explanations.\n",
    "\n",
    "The `interpret` package includes all the dependencies of `interpret-core`, plus additional dependencies required for visualizing EBMs, generating other glassbox models, and blackbox explanations.\n",
    "\n",
    "For further customization, we support extra tags on pip installs to fine tune the dependencies."
   ]
  },
  {
   "cell_type": "markdown",
   "id": "drawn-hamburg",
   "metadata": {},
   "source": [
    "<h2>Install with every dependency (default)</h2>\n",
    "\n",
    "The package `interpret` installs every dependency needed to run any part of the package.\n",
    "\n",
    "````{tab-set}\n",
    "```{tab-item} pip\n",
    "pip install interpret\n",
    "```\n",
    "```{tab-item} conda\n",
    "conda install -c conda-forge interpret\n",
    "```\n",
    "```{tab-item} source\n",
    "git clone https://github.com/interpretml/interpret.git && cd interpret/scripts && make install\n",
    "```\n",
    "````"
   ]
  },
  {
   "cell_type": "markdown",
   "id": "surprised-driver",
   "metadata": {},
   "source": [
    "<h2>Install with minimal dependencies</h2>\n",
    "\n",
    "When you only want the required dependencies, or you wish to customize the dependencies, install the package `interpret-core` instead.\n",
    "\n",
    "````{tab-set}\n",
    "```{tab-item} pip\n",
    "pip install interpret-core\n",
    "```\n",
    "```{tab-item} conda\n",
    "conda install -c conda-forge interpret-core\n",
    "```\n",
    "```{tab-item} source\n",
    "git clone https://github.com/interpretml/interpret.git && cd interpret/scripts && make install-core\n",
    "```\n",
    "````"
   ]
  },
  {
   "cell_type": "markdown",
   "id": "alone-equivalent",
   "metadata": {},
   "source": [
    "<h2>Install with some official dependencies (pip)</h2>\n",
    "\n",
    "This scenario is not covered in all package managers we support. If you are installing with `pip`, you can take advantage of extra tags that are exposed for `interpret-core`.\n",
    "\n",
    "Installing with all extra tags is equivalent to installing the `interpret` package, and can be done with:\n",
    "\n",
    "```sh\n",
    "pip install interpret-core[debug,notebook,plotly,lime,sensitivity,shap,linear,skoperules,treeinterpreter,dash,testing]\n",
    "```\n",
    "\n",
    "- `interpret` utilizing `interpret-core` tags found [here](https://github.com/interpretml/interpret/blob/develop/python/interpret/setup.py).\n",
    "- `interpret-core` extra tags found [here](https://github.com/interpretml/interpret/blob/develop/python/interpret-core/setup.py)."
   ]
  }
 ],
 "metadata": {
  "language_info": {
   "name": "python"
  }
 },
 "nbformat": 4,
 "nbformat_minor": 5
}
