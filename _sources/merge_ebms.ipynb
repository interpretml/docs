{
 "cells": [
  {
   "cell_type": "markdown",
   "id": "api785f6",
   "metadata": {},
   "source": [
    "# merge_ebms\n",
    "\n",
    "```{eval-rst}\n",
    ".. autofunction:: interpret.glassbox.merge_ebms\n",
    "```"
   ]
  }
 ],
 "metadata": {
  "language_info": {
   "name": "python"
  }
 },
 "nbformat": 4,
 "nbformat_minor": 5
}
