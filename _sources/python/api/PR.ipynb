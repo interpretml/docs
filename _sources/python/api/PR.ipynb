{
 "cells": [
  {
   "cell_type": "markdown",
   "id": "api785f6",
   "metadata": {},
   "source": [
    "# PR\n",
    "\n",
    "```{eval-rst}\n",
    ".. autoclass:: interpret.perf.PR\n",
    "   :members:\n",
    "   :inherited-members:\n",
    "```"
   ]
  }
 ],
 "metadata": {
  "language_info": {
   "name": "python"
  }
 },
 "nbformat": 4,
 "nbformat_minor": 5
}
