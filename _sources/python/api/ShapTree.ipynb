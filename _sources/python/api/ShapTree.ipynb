{
 "cells": [
  {
   "cell_type": "markdown",
   "id": "api785f6",
   "metadata": {},
   "source": [
    "# ShapTree\n",
    "\n",
    "```{eval-rst}\n",
    ".. autoclass:: interpret.greybox.ShapTree\n",
    "   :members:\n",
    "   :inherited-members:\n",
    "```"
   ]
  }
 ],
 "metadata": {
  "language_info": {
   "name": "python"
  }
 },
 "nbformat": 4,
 "nbformat_minor": 5
}
