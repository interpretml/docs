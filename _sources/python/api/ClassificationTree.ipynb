{
 "cells": [
  {
   "cell_type": "markdown",
   "id": "api785f6",
   "metadata": {},
   "source": [
    "# ClassificationTree\n",
    "\n",
    "Link to Algorithm description: [Decision Tree](../../dt.ipynb)\n",
    "\n",
    "```{eval-rst}\n",
    ".. autoclass:: interpret.glassbox.ClassificationTree\n",
    "   :members:\n",
    "   :inherited-members:\n",
    "```"
   ]
  }
 ],
 "metadata": {
  "language_info": {
   "name": "python"
  }
 },
 "nbformat": 4,
 "nbformat_minor": 5
}
