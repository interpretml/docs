{
 "cells": [
  {
   "cell_type": "markdown",
   "id": "api785f6",
   "metadata": {},
   "source": [
    "# MorrisSensitivity\n",
    "\n",
    "Link to Algorithm description: [Morris Sensitivity Analysis](../../msa.ipynb)\n",
    "\n",
    "```{eval-rst}\n",
    ".. autoclass:: interpret.blackbox.MorrisSensitivity\n",
    "   :members:\n",
    "   :inherited-members:\n",
    "```"
   ]
  }
 ],
 "metadata": {
  "language_info": {
   "name": "python"
  }
 },
 "nbformat": 4,
 "nbformat_minor": 5
}
