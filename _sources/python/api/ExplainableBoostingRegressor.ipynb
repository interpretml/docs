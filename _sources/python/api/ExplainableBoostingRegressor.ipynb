{
 "cells": [
  {
   "cell_type": "markdown",
   "id": "api785f6",
   "metadata": {},
   "source": [
    "# ExplainableBoostingRegressor\n",
    "\n",
    "Link to Algorithm description: [EBM](../../ebm.ipynb)\n",
    "\n",
    "Greediness and smoothing in the EBM training algorithm were enabled by default in release v0.5.1 on Feb 8, 2024. Greediness and smoothing can improve accuracy but may change the learned feature function graphs compared to those learned using the earlier pure round-robin (cyclic boosting) algorithm without smoothing.  To train EBMs similar to the defaults in v0.5.0 and earlier, set the greedy_ratio parameter to 0.\n",
    "\n",
    "```{eval-rst}\n",
    ".. autoclass:: interpret.glassbox.ExplainableBoostingRegressor\n",
    "   :members:\n",
    "   :inherited-members:\n",
    "   :exclude-members: explainer_type, get_params, set_params, get_metadata_routing, set_decision_function_request, set_fit_request, set_predict_request, set_score_request\n",
    "```"
   ]
  }
 ],
 "metadata": {
  "language_info": {
   "name": "python"
  }
 },
 "nbformat": 4,
 "nbformat_minor": 5
}
