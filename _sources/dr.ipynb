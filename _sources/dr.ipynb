{
 "cells": [
  {
   "cell_type": "markdown",
   "id": "recognized-majority",
   "metadata": {},
   "source": [
    "# Decision Rule\n",
    "\n",
    "Link to API Reference: [DecisionListClassifier](./python/api/DecisionListClassifier.ipynb)\n",
    "\n",
    "*See the backing repository for Skope Rules [here](https://github.com/scikit-learn-contrib/skope-rules).*\n",
    "\n",
    "<h2>Summary</h2>\n",
    "\n",
    "Decision rules are logical expressions of the form `IF ... THEN ...`. Interpret's implementation uses a wrapped variant of `skope-rules`[[1](skrules_2017_dr)], which is a weighted combination of rules extracted from a tree ensemble using L1-regularized optimization over the weights. Rule systems, like single decision trees, can give interpretability at the cost of model performance. These discovered decision rules are often integrated into expert-driven rule-based systems.\n",
    "\n",
    "<h2>How it Works</h2>\n",
    "\n",
    "The creators of skope-rules have a lucid synopsis of what decision rules are [here](https://github.com/scikit-learn-contrib/skope-rules).\n",
    "\n",
    "Christoph Molnar's \"Interpretable Machine Learning\" e-book [[2](molnar2020interpretable_dr)] has an excellent overview on decision rules that can be found [here](https://christophm.github.io/interpretable-ml-book/rules.html).\n",
    "\n",
    "For implementation specific details, see the skope-rules GitHub repository [here](https://github.com/scikit-learn-contrib/skope-rules).\n",
    "\n",
    "<h2>Code Example</h2>\n",
    "\n",
    "The following code will train an skope-rules classifier for the breast cancer dataset. The visualizations provided will be for both global and local explanations."
   ]
  },
  {
   "cell_type": "code",
   "execution_count": null,
   "id": "alone-journalism",
   "metadata": {},
   "outputs": [],
   "source": [
    "from interpret import set_visualize_provider\n",
    "from interpret.provider import InlineProvider\n",
    "set_visualize_provider(InlineProvider())"
   ]
  },
  {
   "cell_type": "code",
   "execution_count": null,
   "id": "august-klein",
   "metadata": {},
   "outputs": [],
   "source": [
    "import numpy as np\n",
    "from sklearn.datasets import load_breast_cancer\n",
    "from sklearn.model_selection import train_test_split\n",
    "from sklearn.metrics import roc_auc_score\n",
    "\n",
    "from interpret.glassbox import DecisionListClassifier\n",
    "from interpret import show\n",
    "\n",
    "seed = 42\n",
    "np.random.seed(seed)\n",
    "X, y = load_breast_cancer(return_X_y=True, as_frame=True)\n",
    "X_train, X_test, y_train, y_test = train_test_split(X, y, test_size=0.20, random_state=seed)\n",
    "\n",
    "dl = DecisionListClassifier(random_state=seed)\n",
    "dl.fit(X_train, y_train)\n",
    "\n",
    "auc = roc_auc_score(y_test, dl.predict_proba(X_test)[:, 1])\n",
    "print(\"AUC: {:.3f}\".format(auc))"
   ]
  },
  {
   "cell_type": "code",
   "execution_count": null,
   "id": "a3819596",
   "metadata": {},
   "outputs": [],
   "source": [
    "show(dl.explain_global())"
   ]
  },
  {
   "cell_type": "code",
   "execution_count": null,
   "id": "b3819597",
   "metadata": {},
   "outputs": [],
   "source": [
    "show(dl.explain_local(X_test[:5], y_test[:5]), 0)"
   ]
  },
  {
   "cell_type": "markdown",
   "id": "varying-powell",
   "metadata": {},
   "source": [
    "<h2>Further Resources</h2>\n",
    "\n",
    "- [Skope Rules Documentation](https://skope-rules.readthedocs.io/en/latest/)"
   ]
  },
  {
   "cell_type": "markdown",
   "id": "mexican-philadelphia",
   "metadata": {},
   "source": [
    "<h2>Bibliography</h2>\n",
    "\n",
    "\n",
    "(skrules_2017_dr)=\n",
    "[1] Florian Gardin, Ronan Gautier, Nicolas Goix, Bibi Ndiaye, and Jean-Mattieu Schertzer. Skope Rules: Machine Learning with Logical Rules in Python. 2017. [doi:10.5281/zenodo.4316671](https://doi.org/10.5281/zenodo.4316671).\n",
    "\n",
    "(molnar2020interpretable_dr)=\n",
    "[2] Christoph Molnar. Interpretable machine learning. Lulu. com, 2020."
   ]
  }
 ],
 "metadata": {
  "language_info": {
   "name": "python"
  }
 },
 "nbformat": 4,
 "nbformat_minor": 5
}
